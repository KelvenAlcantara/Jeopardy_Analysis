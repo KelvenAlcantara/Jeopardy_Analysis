{
 "cells": [
  {
   "cell_type": "markdown",
   "metadata": {},
   "source": [
    "# This is Jeopardy!"
   ]
  },
  {
   "cell_type": "markdown",
   "metadata": {},
   "source": [
    "#### Project Goals"
   ]
  },
  {
   "cell_type": "markdown",
   "metadata": {},
   "source": [
    "We will work to write several functions that investigate a dataset of _Jeopardy!_ questions and answers. Filter the dataset for topics that you're interested in, compute the average difficulty of those questions, and train to become the next Jeopardy champion!"
   ]
  },
  {
   "cell_type": "markdown",
   "metadata": {},
   "source": [
    "## Project Requirements"
   ]
  },
  {
   "cell_type": "markdown",
   "metadata": {},
   "source": [
    "1. We've provided a csv file containing data about the game show _Jeopardy!_ in a file named `jeopardy.csv`. Load the data into a DataFrame and investigate its contents. Try to print out specific columns."
   ]
  },
  {
   "cell_type": "code",
   "execution_count": 16,
   "metadata": {},
   "outputs": [],
   "source": [
    "import pandas as pd\n",
    "pd.set_option('display.max_colwidth', None)\n",
    "jeopardy = pd.read_csv('jeopardy.csv')\n",
    "jeopardy = jeopardy.rename(columns={'Show Number': 'Show Number', ' Air Date': 'Air Date', ' Round': 'Round', ' Category': 'Category', ' Value':'Value', ' Question':'Question', ' Answer': 'Answer'})"
   ]
  },
  {
   "cell_type": "markdown",
   "metadata": {},
   "source": [
    "2. Write a function that filters the dataset for questions that contains all of the words in a list of words. For example, when the list `[\"King\", \"England\"]` was passed to our function, the function returned a DataFrame of 49 rows. Every row had the strings `\"King\"` and `\"England\"` somewhere in its `\" Question\"`.\n",
    "\n",
    "   Test your function by printing out the column containing the question of each row of the dataset."
   ]
  },
  {
   "cell_type": "code",
   "execution_count": 17,
   "metadata": {},
   "outputs": [
    {
     "name": "stdout",
     "output_type": "stream",
     "text": [
      "43812                              1822: Dom Pedro is crowned emperor of this Western Hemisphere nation\n",
      "117217    The tomb of Dom Pedro I stands on the grounds of Ipiranga Park in this largest Brazilian city\n",
      "179947    In this country's \"War of the Two Brothers\", Dom Miguel capitulated to Dom Pedro May 26, 1834\n",
      "180984                               In 1822 Dom Pedro declared Brazil's independence from this country\n",
      "Name: Question, dtype: object\n"
     ]
    }
   ],
   "source": [
    "questions = jeopardy['Question']\n",
    "\n",
    "def return_question_words(data, string_rows):\n",
    "    questions = data['Question']\n",
    "    questions_selected = questions.apply(lambda x: any(word.lower() in str(x).lower() for word in string_rows))\n",
    "    return questions[questions_selected].head(49)\n",
    "print(return_question_words(jeopardy, [\"Dom Pedro\"]))"
   ]
  },
  {
   "cell_type": "markdown",
   "metadata": {},
   "source": [
    "3. Test your original function with a few different sets of words to try to find some ways your function breaks. Edit your function so it is more robust.\n",
    "\n",
    "   For example, think about capitalization. We probably want to find questions that contain the word `\"King\"` or `\"king\"`.\n",
    "   \n",
    "   You may also want to check to make sure you don't find rows that contain substrings of your given words. For example, our function found a question that didn't contain the word `\"king\"`, however it did contain the word `\"viking\"` &mdash; it found the `\"king\"` inside `\"viking\"`. Note that this also comes with some drawbacks &mdash; you would no longer find questions that contained words like `\"England's\"`."
   ]
  },
  {
   "cell_type": "code",
   "execution_count": 18,
   "metadata": {},
   "outputs": [
    {
     "name": "stdout",
     "output_type": "stream",
     "text": [
      "49\n"
     ]
    }
   ],
   "source": [
    "quantity = return_question_words(jeopardy, [\"king\"])\n",
    "print(quantity.count())"
   ]
  },
  {
   "cell_type": "markdown",
   "metadata": {},
   "source": [
    "4. We may want to eventually compute aggregate statistics, like `.mean()` on the `\" Value\"` column. But right now, the values in that column are strings. Convert the`\" Value\"` column to floats. If you'd like to, you can create a new column with float values.\n",
    "\n",
    "   While most of the values in the `\" Value\"` column represent a dollar amount as a string, note that some do not &mdash; these values will need to be handled differently!\n",
    "\n",
    "   Now that you can filter the dataset of question, use your new column that contains the float values of each question to find the \"difficulty\" of certain topics. For example, what is the average value of questions that contain the word `\"King\"`?\n",
    "   \n",
    "   Make sure to use the dataset that contains the float values as the dataset you use in your filtering function."
   ]
  },
  {
   "cell_type": "code",
   "execution_count": 19,
   "metadata": {},
   "outputs": [],
   "source": [
    "import numpy as np\n",
    "jeopardy['Value']  = jeopardy['Value'].apply(lambda x: np.nan if x == 'no value' else x.replace(',', '').replace('$', '') ) "
   ]
  },
  {
   "cell_type": "code",
   "execution_count": 20,
   "metadata": {},
   "outputs": [
    {
     "name": "stdout",
     "output_type": "stream",
     "text": [
      "[200.0, 200.0, 200.0, 200.0, 200.0, 200.0, 400.0, 400.0, 400.0, 400.0]\n"
     ]
    }
   ],
   "source": [
    "value = []\n",
    "for i in range(len(jeopardy.Value)):\n",
    "    appender = jeopardy.Value[i]\n",
    "    appender = float(appender)\n",
    "    value.append(appender)\n",
    "print(value[0:10])\n",
    "\n",
    "jeopardy['Value'] = value"
   ]
  },
  {
   "cell_type": "markdown",
   "metadata": {},
   "source": [
    "5. Write a function that returns the count of unique question in a dataset."
   ]
  },
  {
   "cell_type": "code",
   "execution_count": 21,
   "metadata": {},
   "outputs": [
    {
     "name": "stdout",
     "output_type": "stream",
     "text": [
      "49\n"
     ]
    }
   ],
   "source": [
    "def count_of_questions(list_words):\n",
    "    count_ammount = return_question_words(jeopardy, list_words).count()\n",
    "    return count_ammount\n",
    "print(count_of_questions(['Brazil']))"
   ]
  },
  {
   "cell_type": "markdown",
   "metadata": {},
   "source": [
    "6. Quiz Game"
   ]
  },
  {
   "cell_type": "code",
   "execution_count": 22,
   "metadata": {},
   "outputs": [
    {
     "name": "stdout",
     "output_type": "stream",
     "text": [
      "1942: Ugarte, Sascha, Major Strasser\n",
      "Wrong answer\n",
      "Casablanca\n"
     ]
    }
   ],
   "source": [
    "def question_and_answer():\n",
    "    questions_list = jeopardy.Question.tolist()\n",
    "    answer_list = jeopardy.Answer.tolist()\n",
    "    rand_num = np.random.randint(0, len(questions_list))\n",
    "    question = questions_list[rand_num]\n",
    "    print(question)\n",
    "    response = input(\"What is the answer? :\")\n",
    "    if response == str(answer_list[rand_num]):\n",
    "        print(\"Nice! You are right!\")\n",
    "        print(answer_list[rand_num])\n",
    "    else:\n",
    "        print(\"Wrong answer\")\n",
    "        print(answer_list[rand_num])\n",
    "\n",
    "question_and_answer()"
   ]
  },
  {
   "cell_type": "markdown",
   "metadata": {},
   "source": [
    "7. Bar correlation with 'History' category"
   ]
  },
  {
   "cell_type": "code",
   "execution_count": 23,
   "metadata": {},
   "outputs": [
    {
     "name": "stdout",
     "output_type": "stream",
     "text": [
      "107384 3 3631 105912\n",
      "216930\n"
     ]
    },
    {
     "data": {
      "image/png": "[encoded data removed]",
      "text/plain": [
       "<Figure size 640x480 with 1 Axes>"
      ]
     },
     "metadata": {},
     "output_type": "display_data"
    }
   ],
   "source": [
    "''' Is there a connection between the round and the category? Are you more likely to find certain categories, \n",
    "like `\"Literature\"` in Single Jeopardy or Double Jeopardy? '''\n",
    "# print(jeopardy.Category.nunique())\n",
    "# print(jeopardy.Round.nunique())\n",
    "# print(jeopardy.Round.unique())\n",
    "\n",
    "# History is what we will analyse\n",
    "\n",
    "history_in_each_round = jeopardy.groupby(\"Round\")[\"Category\"].apply(list)\n",
    "# print(history_in_each_round)\n",
    "\n",
    "jeopardy_count =len(history_in_each_round['Jeopardy!'])\n",
    "double_count = len(history_in_each_round['Double Jeopardy!'])\n",
    "tiebrk_count = len(history_in_each_round['Tiebreaker'])\n",
    "final_count = len(history_in_each_round['Final Jeopardy!'])\n",
    "print(jeopardy_count, tiebrk_count, final_count, double_count)\n",
    "\n",
    "dict_list_count = [jeopardy_count, double_count, tiebrk_count, final_count]\n",
    "count_general = jeopardy_count + double_count + tiebrk_count + final_count\n",
    "print(count_general)\n",
    "\n",
    "import matplotlib.pyplot as plt\n",
    "\n",
    "labels = ['Jeopardy!', 'Double Jeopardy!', 'Tiebreaker', 'Final Jeopardy!']\n",
    "bars = plt.bar(labels, dict_list_count, color=['blue', 'orange', 'red', 'purple'])\n",
    "plt.bar_label(bars, fmt='%d', fontsize=10)\n",
    "plt.xlabel(\"Rounds\")\n",
    "plt.ylabel(\"Número de Questões\")\n",
    "plt.title(\"Número de Questões por Round no Jeopardy!\")\n",
    "plt.show()"
   ]
  }
 ],
 "metadata": {
  "kernelspec": {
   "display_name": "base",
   "language": "python",
   "name": "python3"
  },
  "language_info": {
   "codemirror_mode": {
    "name": "ipython",
    "version": 3
   },
   "file_extension": ".py",
   "mimetype": "text/x-python",
   "name": "python",
   "nbconvert_exporter": "python",
   "pygments_lexer": "ipython3",
   "version": "3.12.9"
  }
 },
 "nbformat": 4,
 "nbformat_minor": 2
}
